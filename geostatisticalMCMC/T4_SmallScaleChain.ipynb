{
 "cells": [
  {
   "cell_type": "markdown",
   "id": "cc5c3599-17fa-4926-a0a3-32c063ff4d3d",
   "metadata": {},
   "source": [
    "# Tutorial 4: Initializing a small-scale chain"
   ]
  },
  {
   "cell_type": "code",
   "execution_count": 1,
   "id": "0e1a9628-ee24-4c36-a603-1743a4a33bf9",
   "metadata": {},
   "outputs": [],
   "source": [
    "import numpy as np\n",
    "import matplotlib.pyplot as plt\n",
    "import pandas as pd\n",
    "from gstatsMCMC import Topography\n",
    "from gstatsMCMC import MCMC\n",
    "import gstatsim as gs\n",
    "from sklearn.preprocessing import QuantileTransformer\n",
    "import skgstat as skg"
   ]
  },
  {
   "cell_type": "code",
   "execution_count": 2,
   "id": "36be6aea-2e7a-4447-87bb-d3d7a1d59d9d",
   "metadata": {},
   "outputs": [],
   "source": [
    "# load compiled bed elevation measurements\n",
    "df = pd.read_csv('DenmanDataGridded.csv')"
   ]
  },
  {
   "cell_type": "code",
   "execution_count": 3,
   "id": "c91a1748-7297-4d0d-8154-e59af26adf96",
   "metadata": {},
   "outputs": [],
   "source": [
    "# create a grid of x and y coordinates\n",
    "x_uniq = np.unique(df.x)\n",
    "y_uniq = np.unique(df.y)\n",
    "\n",
    "xmin = np.min(x_uniq)\n",
    "xmax = np.max(x_uniq)\n",
    "ymin = np.min(y_uniq)\n",
    "ymax = np.max(y_uniq)\n",
    "\n",
    "cols = len(x_uniq)\n",
    "rows = len(y_uniq)\n",
    "\n",
    "resolution = 500\n",
    "\n",
    "xx, yy = np.meshgrid(x_uniq, y_uniq)"
   ]
  },
  {
   "cell_type": "code",
   "execution_count": 4,
   "id": "1b37d843-a85c-474f-8038-175c63499b85",
   "metadata": {},
   "outputs": [],
   "source": [
    "# load other data\n",
    "dhdt = df['dhdt'].values.reshape(xx.shape)\n",
    "smb = df['smb'].values.reshape(xx.shape)\n",
    "velx = df['velx'].values.reshape(xx.shape)\n",
    "vely = df['vely'].values.reshape(xx.shape)\n",
    "bedmap_mask = df['bedmap_mask'].values.reshape(xx.shape)\n",
    "bedmachine_thickness = df['bedmachine_thickness'].values.reshape(xx.shape)\n",
    "bedmap_surf = df['bedmap_surf'].values.reshape(xx.shape)\n",
    "highvel_mask = df['highvel_mask'].values.reshape(xx.shape)\n",
    "bedmachine_bed = df['bedmap_surf'].values.reshape(xx.shape) - bedmachine_thickness\n",
    "bedmap_bed = df['bedmap_bed'].values.reshape(xx.shape)"
   ]
  },
  {
   "cell_type": "code",
   "execution_count": 5,
   "id": "f01cb966-3a5c-47cc-9d50-8318ae90921d",
   "metadata": {},
   "outputs": [],
   "source": [
    "# create conditioning data\n",
    "# bed elevation measurement in grounded ice region, and bedmachine bed topography elsewhere\n",
    "cond_bed = np.where(bedmap_mask == 1, df['bed'].values.reshape(xx.shape), bedmap_bed)\n",
    "df['cond_bed'] = cond_bed.flatten()\n",
    "# create a mask of conditioning data\n",
    "data_mask = ~np.isnan(cond_bed)"
   ]
  },
  {
   "cell_type": "code",
   "execution_count": 6,
   "id": "f592e767-4352-48a3-ae1c-898e6520b024",
   "metadata": {},
   "outputs": [],
   "source": [
    "# normalize the conditioning bed data, saved to df['Nbed']\n",
    "data = df['cond_bed'].values.reshape(-1,1)\n",
    "nst_trans = QuantileTransformer(n_quantiles=500, output_distribution=\"normal\",random_state=0).fit(data)\n",
    "transformed_data = nst_trans.transform(data)\n",
    "df['Nbed'] = transformed_data"
   ]
  },
  {
   "cell_type": "code",
   "execution_count": null,
   "id": "51db7b01-b64b-4920-955c-7e540650be01",
   "metadata": {},
   "outputs": [],
   "source": [
    "# randomly drop out 50% of coordinates. Decrease this value if you have a lot of data and it takes a long time to run\n",
    "df_sampled = df.sample(frac=0.4, random_state=42)\n",
    "df_sampled = df_sampled[df_sampled[\"cond_bed\"].isnull() == False]\n",
    "df_sampled = df_sampled[df_sampled[\"bedmap_mask\"]==1]\n",
    "\n",
    "# compute experimental (isotropic) variogram\n",
    "coords = df_sampled[['x','y']].values\n",
    "values = df_sampled['cond_bed']\n",
    "\n",
    "maxlag = 70000      # maximum range distance\n",
    "n_lags = 30         # num of bins (try decreasing if this is taking too long)\n",
    "\n",
    "# compute variogram\n",
    "V1 = skg.Variogram(coords, values, bin_func='even', n_lags=n_lags, maxlag=maxlag, normalize=False, model='matern')\n",
    "\n",
    "# extract variogram values\n",
    "xdata = V1.bins\n",
    "ydata = V1.experimental\n",
    "\n",
    "V1_p = V1.parameters\n",
    "\n",
    "# evaluate models\n",
    "xi = np.linspace(0, xdata[-1], n_lags) \n",
    "y_mtn = [skg.models.matern(h, V1_p[0], V1_p[1], V1_p[2], V1_p[3]) for h in xi]\n",
    "# variogram parameter is [range, sill, shape, nugget] for matern model.\n",
    "\n",
    "plt.figure(figsize=(6,4))\n",
    "plt.scatter(xdata, ydata, s=12, c='g')\n",
    "plt.plot(xi, y_mtn,'b-.', label='Matern variogram model')\n",
    "plt.title('Isotropic Experimental Variogram')\n",
    "plt.xlabel('Lag (m)'); plt.ylabel('Semivariance')\n",
    "plt.show()"
   ]
  },
  {
   "cell_type": "code",
   "execution_count": 17,
   "id": "375d583b-a143-42c0-9130-af2ef7ab7e81",
   "metadata": {},
   "outputs": [],
   "source": [
    "V1_p"
   ]
  },
  {
   "cell_type": "code",
   "execution_count": 9,
   "id": "c332c3b8-4f86-4efe-a948-11481f2014a5",
   "metadata": {},
   "outputs": [],
   "source": [
    "# load the initial bed, make sure no bed in grounded ice region is higher altitude than ice surface\n",
    "sgs_bed = np.loadtxt('sgs_bed.txt')\n",
    "thickness = bedmap_surf - sgs_bed\n",
    "sgs_bed = np.where((thickness<=0)&(bedmap_mask==1), bedmap_surf-1, sgs_bed)"
   ]
  },
  {
   "cell_type": "markdown",
   "id": "e59c5786-f586-4948-8595-2c6c7d90a814",
   "metadata": {},
   "source": [
    "### Then initiating the SGS chain"
   ]
  },
  {
   "cell_type": "markdown",
   "id": "1630b771-4dbf-4893-95e7-de8e130ae6af",
   "metadata": {},
   "source": [
    "The first 4 initialization process are very similar to chain_crf, please refers to Tutorial 3 for detailed information"
   ]
  },
  {
   "cell_type": "code",
   "execution_count": 8,
   "id": "12572947-3fe8-490c-93aa-8141f39841aa",
   "metadata": {},
   "outputs": [],
   "source": [
    "grounded_ice_mask = (bedmap_mask == 1)"
   ]
  },
  {
   "cell_type": "code",
   "execution_count": 10,
   "id": "78ef0a12-b818-45b3-b911-21f11ac03431",
   "metadata": {},
   "outputs": [
    {
     "name": "stdout",
     "output_type": "stream",
     "text": [
      "before running the chain, please set where the block update will be using the object's function set_update_in_region(region_mask) and set_update_region(update_in_region)\n",
      "please also set up the sgs parameters using set_sgs_param(self, block_size, sgs_param)\n",
      "then please set up the loss function using either set_loss_type or set_loss_func\n"
     ]
    }
   ],
   "source": [
    "smallScaleChain = MCMC.chain_sgs(xx, yy, sgs_bed, bedmap_surf, velx, vely, dhdt, smb, cond_bed, data_mask, grounded_ice_mask, resolution)"
   ]
  },
  {
   "cell_type": "code",
   "execution_count": 11,
   "id": "a1471a46-ed63-4c46-91d6-d41b243606f8",
   "metadata": {},
   "outputs": [
    {
     "name": "stdout",
     "output_type": "stream",
     "text": [
      "the update blocks is set to be randomly generated for any locations inside the given region\n"
     ]
    }
   ],
   "source": [
    "smallScaleChain.set_update_region(True,highvel_mask)"
   ]
  },
  {
   "cell_type": "code",
   "execution_count": 12,
   "id": "014f1099-92ea-42d8-a051-025a41d99aa5",
   "metadata": {},
   "outputs": [],
   "source": [
    "smallScaleChain.set_loss_type(map_func='sumsquare', sigma_mc=5, massConvInRegion=True)"
   ]
  },
  {
   "cell_type": "code",
   "execution_count": 13,
   "id": "3eb0216d-643d-4c77-8269-6001d789abb0",
   "metadata": {},
   "outputs": [],
   "source": [
    "# set up the block sizes\n",
    "min_block_x = 5\n",
    "max_block_x = 20\n",
    "min_block_y = 5\n",
    "max_block_y = 20\n",
    "smallScaleChain.set_block_sizes(min_block_x, max_block_x, min_block_y, max_block_y)"
   ]
  },
  {
   "cell_type": "markdown",
   "id": "ab71c484-4341-4d4f-a1ec-b3329b88fef2",
   "metadata": {},
   "source": [
    "Sequential Gaussian Simulation is set to perform on the normalized data. This nst_trans is an object of the QuantileTranformer class in scikit-learn python library. The *fit_variogram* function returns a nst_trans object, which could be directly used here"
   ]
  },
  {
   "cell_type": "code",
   "execution_count": 14,
   "id": "0d998ea6-02b8-471e-8c11-a3ffb2b08023",
   "metadata": {},
   "outputs": [],
   "source": [
    "smallScaleChain.set_normal_transformation(nst_trans, do_transform=False)"
   ]
  },
  {
   "cell_type": "markdown",
   "id": "2c9a46d5-2b39-49eb-a1ee-d58fcb7760ed",
   "metadata": {},
   "source": [
    "When running the SGS chain, it is possible to 'detrend' the topography.\n",
    "\n",
    "Detrend topography refers to substracting a pre-defined trend from the topography map, where the trend suppose to represent long-wavelength features that violate stationary properties of SGS. If choose to detrend the topography, the argument *detrend_map* need to be set to True, and the argument *trend* need to be a 2D numpy array representing the topography trend"
   ]
  },
  {
   "cell_type": "code",
   "execution_count": 15,
   "id": "228daccb-e0a3-4799-a8ce-8d369c185e9d",
   "metadata": {},
   "outputs": [],
   "source": [
    "smallScaleChain.set_trend(trend = [], detrend_map = False)"
   ]
  },
  {
   "cell_type": "code",
   "execution_count": 18,
   "id": "b2289a61-1cd2-4e5a-a2a4-b41e48da0b6d",
   "metadata": {},
   "outputs": [
    {
     "name": "stdout",
     "output_type": "stream",
     "text": [
      "the variogram is set to type Matern\n"
     ]
    }
   ],
   "source": [
    "smallScaleChain.set_variogram('Matern',V1_p[0],V1_p[1],0,isotropic=True,vario_smoothness=V1_p[2])"
   ]
  },
  {
   "cell_type": "code",
   "execution_count": 19,
   "id": "926bb1a9-0e4a-4092-ab3f-c48d7b4426c2",
   "metadata": {},
   "outputs": [
    {
     "name": "stdout",
     "output_type": "stream",
     "text": [
      "because the sgs_rand_dropout_on is set to False, the dropout_rate is automatically set to 0\n"
     ]
    }
   ],
   "source": [
    "smallScaleChain.set_sgs_param(48, 50e3, sgs_rand_dropout_on=False)"
   ]
  },
  {
   "cell_type": "code",
   "execution_count": null,
   "id": "6b6b4722-d529-46ff-92ef-5205b909ce51",
   "metadata": {},
   "outputs": [
    {
     "name": "stdout",
     "output_type": "stream",
     "text": [
      "i: 0 mc loss: 3.539e+06 loss: 3.539e+06 acceptance rate: 1.0\n"
     ]
    }
   ],
   "source": [
    "seed = 23034902\n",
    "randomGenerator = np.random.default_rng(seed)\n",
    "\n",
    "beds, loss_mc, loss_data, loss, steps, resampled_times, blocks_used = smallScaleChain.run(n_iter=5000, rng_seed=randomGenerator, only_save_last_bed=False, info_per_iter = 1000)"
   ]
  },
  {
   "cell_type": "code",
   "execution_count": null,
   "id": "03973a0e-0ccb-44c5-8050-dfc142d7ad32",
   "metadata": {},
   "outputs": [],
   "source": [
    "beds.shape"
   ]
  },
  {
   "cell_type": "code",
   "execution_count": null,
   "id": "b58368ef-3ebb-4ee8-8d0e-ec3e9db85a36",
   "metadata": {},
   "outputs": [],
   "source": [
    "plt.pcolormesh(xx,yy,beds[0],vmax=2000,vmin=-2500)\n",
    "plt.axis('scaled')\n",
    "plt.colorbar()\n",
    "plt.xlabel('x (m)')\n",
    "plt.ylabel('y (m)')"
   ]
  },
  {
   "cell_type": "code",
   "execution_count": null,
   "id": "c7b32454-f4fe-4aca-be72-8dce58d4aa15",
   "metadata": {},
   "outputs": [],
   "source": [
    "plt.pcolormesh(xx,yy,beds[-1],vmax=2000,vmin=-2500)\n",
    "plt.axis('scaled')\n",
    "plt.colorbar()\n",
    "plt.xlabel('x (m)')\n",
    "plt.ylabel('y (m)')"
   ]
  },
  {
   "cell_type": "code",
   "execution_count": null,
   "id": "dc3e479c-89b1-42d0-a41f-64fd57920677",
   "metadata": {},
   "outputs": [],
   "source": [
    "plt.pcolormesh(xx,yy,beds[-1]-beds[0], cmap='RdBu',vmax=200,vmin=-200)\n",
    "plt.axis('scaled')\n",
    "plt.colorbar()\n",
    "plt.xlabel('x (m)')\n",
    "plt.ylabel('y (m)')"
   ]
  },
  {
   "cell_type": "code",
   "execution_count": null,
   "id": "a286b4e5-48fe-4e8f-87d7-84b21c99b431",
   "metadata": {},
   "outputs": [],
   "source": []
  }
 ],
 "metadata": {
  "kernelspec": {
   "display_name": "geostatskernel",
   "language": "python",
   "name": "geostatskernel"
  },
  "language_info": {
   "codemirror_mode": {
    "name": "ipython",
    "version": 3
   },
   "file_extension": ".py",
   "mimetype": "text/x-python",
   "name": "python",
   "nbconvert_exporter": "python",
   "pygments_lexer": "ipython3",
   "version": "3.12.3"
  }
 },
 "nbformat": 4,
 "nbformat_minor": 5
}
